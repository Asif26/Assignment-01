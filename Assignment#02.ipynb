{
 "cells": [
  {
   "cell_type": "markdown",
   "metadata": {},
   "source": [
    "### Q1"
   ]
  },
  {
   "cell_type": "code",
   "execution_count": 12,
   "metadata": {},
   "outputs": [
    {
     "name": "stdout",
     "output_type": "stream",
     "text": [
      "Enter your English Marks6\n",
      "Enter your Mathe Marks0\n",
      "Enter your Science Marks8\n",
      "Enter your Pak Study Marks6\n",
      "Enter your Islamiyat Marks5\n",
      "English= 6\n",
      "Mathe= 0\n",
      "Science= 8\n",
      "Pak study= 6\n",
      "Islamiyat= 5\n",
      "Total Marks = 500\t\t\t\tObtained Marks=25\n",
      "Avrage= 5.0%\n",
      "Grade = Fail\n"
     ]
    }
   ],
   "source": [
    "num1 = int(input(\"Enter your English Marks\"))\n",
    "num2 = int(input(\"Enter your Mathe Marks\"))\n",
    "num3 = int(input(\"Enter your Science Marks\"))\n",
    "num4 = int(input(\"Enter your Pak Study Marks\"))\n",
    "num5 = int(input(\"Enter your Islamiyat Marks\"))\n",
    "print(\"English= \" + str(num1))\n",
    "print(\"Mathe= \" + str(num2))\n",
    "print(\"Science= \" + str(num3))\n",
    "print(\"Pak study= \" + str(num4))\n",
    "print(\"Islamiyat= \" + str(num5))\n",
    "Total = num1 + num2 + num3 + num4 + num5\n",
    "print(f\"Total Marks = 500\"+\"\\t\\t\\t\\t\"\"Obtained Marks=\"+ str(Total))\n",
    "avrage = Total/5\n",
    "print(\"Avrage= \"+ str(avrage)+\"%\")\n",
    "\n",
    "if (avrage>=80 and avrage<=100):\n",
    "    \n",
    "    print(\"Grade = A\")\n",
    "elif (avrage >= 60 and avrage <= 79):\n",
    "    print(\"Grade = B\")\n",
    "elif (avrage >= 50 and avrage <= 59):\n",
    "    print(\"Grade = C\")\n",
    "    \n",
    "elif (avrage >= 40 and avrage <=49):\n",
    "    print(\"Grade = D\")\n",
    "    \n",
    "\n",
    "else:\n",
    "    print(\"Grade = Fail\")\n"
   ]
  },
  {
   "cell_type": "markdown",
   "metadata": {},
   "source": [
    "#### Q2"
   ]
  },
  {
   "cell_type": "code",
   "execution_count": 1,
   "metadata": {},
   "outputs": [
    {
     "name": "stdout",
     "output_type": "stream",
     "text": [
      "Enter you number3\n",
      "Enterd Number is Odd\n"
     ]
    }
   ],
   "source": [
    "num1 = int(input(\"Enter you number\"))\n",
    "if  num1%2 == 0:\n",
    "    print(\"Entered Number is Even\")\n",
    "else:\n",
    "    print(\"Enterd Number is Odd\")"
   ]
  },
  {
   "cell_type": "markdown",
   "metadata": {},
   "source": [
    "### Q3"
   ]
  },
  {
   "cell_type": "code",
   "execution_count": 2,
   "metadata": {
    "scrolled": true
   },
   "outputs": [
    {
     "name": "stdout",
     "output_type": "stream",
     "text": [
      "9\n"
     ]
    }
   ],
   "source": [
    "l= [1,2,3,4,5,6,7,78,8]\n",
    "print(len(l))"
   ]
  },
  {
   "cell_type": "markdown",
   "metadata": {},
   "source": [
    "### Q4"
   ]
  },
  {
   "cell_type": "code",
   "execution_count": 4,
   "metadata": {},
   "outputs": [
    {
     "data": {
      "text/plain": [
       "78"
      ]
     },
     "execution_count": 4,
     "metadata": {},
     "output_type": "execute_result"
    }
   ],
   "source": [
    "max(l)"
   ]
  },
  {
   "cell_type": "markdown",
   "metadata": {},
   "source": [
    "### Q5"
   ]
  },
  {
   "cell_type": "code",
   "execution_count": 6,
   "metadata": {},
   "outputs": [
    {
     "data": {
      "text/plain": [
       "114"
      ]
     },
     "execution_count": 6,
     "metadata": {},
     "output_type": "execute_result"
    }
   ],
   "source": [
    "sum(l)"
   ]
  },
  {
   "cell_type": "markdown",
   "metadata": {},
   "source": [
    "### Q6"
   ]
  },
  {
   "cell_type": "code",
   "execution_count": 22,
   "metadata": {},
   "outputs": [
    {
     "name": "stdout",
     "output_type": "stream",
     "text": [
      "1\n",
      "1\n",
      "2\n",
      "3\n",
      "4\n"
     ]
    }
   ],
   "source": [
    "a = [1,1,2,3,4,5,8,13,21,34,55,89]\n",
    "for n in a:\n",
    "        print(n)\n",
    "        if n == 4:\n",
    "            break"
   ]
  },
  {
   "cell_type": "code",
   "execution_count": null,
   "metadata": {},
   "outputs": [],
   "source": []
  },
  {
   "cell_type": "code",
   "execution_count": null,
   "metadata": {},
   "outputs": [],
   "source": []
  }
 ],
 "metadata": {
  "kernelspec": {
   "display_name": "Python 3",
   "language": "python",
   "name": "python3"
  },
  "language_info": {
   "codemirror_mode": {
    "name": "ipython",
    "version": 3
   },
   "file_extension": ".py",
   "mimetype": "text/x-python",
   "name": "python",
   "nbconvert_exporter": "python",
   "pygments_lexer": "ipython3",
   "version": "3.7.3"
  }
 },
 "nbformat": 4,
 "nbformat_minor": 2
}
